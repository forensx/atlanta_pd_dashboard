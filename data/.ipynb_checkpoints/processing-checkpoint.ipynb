{
 "cells": [
  {
   "cell_type": "code",
   "execution_count": 15,
   "metadata": {},
   "outputs": [],
   "source": [
    "import numpy as np\n",
    "import pandas as pd"
   ]
  },
  {
   "cell_type": "code",
   "execution_count": 10,
   "metadata": {},
   "outputs": [],
   "source": [
    "csv = pd.read_csv('CRIME_HISTORICAL_DATA.csv')"
   ]
  },
  {
   "cell_type": "code",
   "execution_count": 12,
   "metadata": {},
   "outputs": [],
   "source": [
    "csv = csv[['Lat', 'Long', 'UC2_Literal', 'Report Date']]"
   ]
  },
  {
   "cell_type": "code",
   "execution_count": 16,
   "metadata": {},
   "outputs": [
    {
     "data": {
      "text/plain": [
       "array(['HOMICIDE', 'ROBBERY-PEDESTRIAN', 'AGG ASSAULT',\n",
       "       'BURGLARY-RESIDENCE', 'BURGLARY-NONRES', 'LARCENY-NON VEHICLE',\n",
       "       'LARCENY-FROM VEHICLE', 'AUTO THEFT', 'ROBBERY-COMMERCIAL',\n",
       "       'ROBBERY-RESIDENCE'], dtype=object)"
      ]
     },
     "execution_count": 16,
     "metadata": {},
     "output_type": "execute_result"
    }
   ],
   "source": [
    "csv['UC2_Literal'].unique()"
   ]
  },
  {
   "cell_type": "code",
   "execution_count": 17,
   "metadata": {},
   "outputs": [
    {
     "data": {
      "text/html": [
       "<div>\n",
       "<style scoped>\n",
       "    .dataframe tbody tr th:only-of-type {\n",
       "        vertical-align: middle;\n",
       "    }\n",
       "\n",
       "    .dataframe tbody tr th {\n",
       "        vertical-align: top;\n",
       "    }\n",
       "\n",
       "    .dataframe thead th {\n",
       "        text-align: right;\n",
       "    }\n",
       "</style>\n",
       "<table border=\"1\" class=\"dataframe\">\n",
       "  <thead>\n",
       "    <tr style=\"text-align: right;\">\n",
       "      <th></th>\n",
       "      <th>Lat</th>\n",
       "      <th>Long</th>\n",
       "      <th>UC2_Literal</th>\n",
       "      <th>Report Date</th>\n",
       "    </tr>\n",
       "  </thead>\n",
       "  <tbody>\n",
       "    <tr>\n",
       "      <td>0</td>\n",
       "      <td>33.77341</td>\n",
       "      <td>-84.42157</td>\n",
       "      <td>HOMICIDE</td>\n",
       "      <td>01/31/2009</td>\n",
       "    </tr>\n",
       "    <tr>\n",
       "      <td>1</td>\n",
       "      <td>33.77303</td>\n",
       "      <td>-84.37190</td>\n",
       "      <td>ROBBERY-PEDESTRIAN</td>\n",
       "      <td>01/31/2009</td>\n",
       "    </tr>\n",
       "    <tr>\n",
       "      <td>2</td>\n",
       "      <td>33.77347</td>\n",
       "      <td>-84.35767</td>\n",
       "      <td>ROBBERY-PEDESTRIAN</td>\n",
       "      <td>01/31/2009</td>\n",
       "    </tr>\n",
       "    <tr>\n",
       "      <td>3</td>\n",
       "      <td>33.66970</td>\n",
       "      <td>-84.49403</td>\n",
       "      <td>AGG ASSAULT</td>\n",
       "      <td>01/31/2009</td>\n",
       "    </tr>\n",
       "    <tr>\n",
       "      <td>4</td>\n",
       "      <td>33.75471</td>\n",
       "      <td>-84.48939</td>\n",
       "      <td>AGG ASSAULT</td>\n",
       "      <td>01/31/2009</td>\n",
       "    </tr>\n",
       "    <tr>\n",
       "      <td>...</td>\n",
       "      <td>...</td>\n",
       "      <td>...</td>\n",
       "      <td>...</td>\n",
       "      <td>...</td>\n",
       "    </tr>\n",
       "    <tr>\n",
       "      <td>3525</td>\n",
       "      <td>33.72951</td>\n",
       "      <td>-84.38735</td>\n",
       "      <td>AUTO THEFT</td>\n",
       "      <td>01/01/2009</td>\n",
       "    </tr>\n",
       "    <tr>\n",
       "      <td>3526</td>\n",
       "      <td>33.72828</td>\n",
       "      <td>-84.38787</td>\n",
       "      <td>AUTO THEFT</td>\n",
       "      <td>01/01/2009</td>\n",
       "    </tr>\n",
       "    <tr>\n",
       "      <td>3527</td>\n",
       "      <td>33.73910</td>\n",
       "      <td>-84.43743</td>\n",
       "      <td>AUTO THEFT</td>\n",
       "      <td>01/01/2009</td>\n",
       "    </tr>\n",
       "    <tr>\n",
       "      <td>3528</td>\n",
       "      <td>33.68869</td>\n",
       "      <td>-84.36881</td>\n",
       "      <td>AUTO THEFT</td>\n",
       "      <td>01/01/2009</td>\n",
       "    </tr>\n",
       "    <tr>\n",
       "      <td>3529</td>\n",
       "      <td>33.72544</td>\n",
       "      <td>-84.44497</td>\n",
       "      <td>AUTO THEFT</td>\n",
       "      <td>01/01/2009</td>\n",
       "    </tr>\n",
       "  </tbody>\n",
       "</table>\n",
       "<p>3530 rows × 4 columns</p>\n",
       "</div>"
      ],
      "text/plain": [
       "           Lat      Long         UC2_Literal Report Date\n",
       "0     33.77341 -84.42157            HOMICIDE  01/31/2009\n",
       "1     33.77303 -84.37190  ROBBERY-PEDESTRIAN  01/31/2009\n",
       "2     33.77347 -84.35767  ROBBERY-PEDESTRIAN  01/31/2009\n",
       "3     33.66970 -84.49403         AGG ASSAULT  01/31/2009\n",
       "4     33.75471 -84.48939         AGG ASSAULT  01/31/2009\n",
       "...        ...       ...                 ...         ...\n",
       "3525  33.72951 -84.38735          AUTO THEFT  01/01/2009\n",
       "3526  33.72828 -84.38787          AUTO THEFT  01/01/2009\n",
       "3527  33.73910 -84.43743          AUTO THEFT  01/01/2009\n",
       "3528  33.68869 -84.36881          AUTO THEFT  01/01/2009\n",
       "3529  33.72544 -84.44497          AUTO THEFT  01/01/2009\n",
       "\n",
       "[3530 rows x 4 columns]"
      ]
     },
     "execution_count": 17,
     "metadata": {},
     "output_type": "execute_result"
    }
   ],
   "source": [
    "csv"
   ]
  },
  {
   "cell_type": "code",
   "execution_count": null,
   "metadata": {},
   "outputs": [],
   "source": []
  }
 ],
 "metadata": {
  "kernelspec": {
   "display_name": "Python 3",
   "language": "python",
   "name": "python3"
  },
  "language_info": {
   "codemirror_mode": {
    "name": "ipython",
    "version": 3
   },
   "file_extension": ".py",
   "mimetype": "text/x-python",
   "name": "python",
   "nbconvert_exporter": "python",
   "pygments_lexer": "ipython3",
   "version": "3.7.4"
  }
 },
 "nbformat": 4,
 "nbformat_minor": 2
}
